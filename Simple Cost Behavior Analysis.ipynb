{
 "cells": [
  {
   "cell_type": "code",
   "execution_count": 1,
   "id": "4ffe300e-100d-4a1a-85af-9afc7b8a54e4",
   "metadata": {},
   "outputs": [],
   "source": [
    "import pandas as pd\n",
    "\n",
    "# Let's suppose a given period had this results \n",
    "\n",
    "df = pd.DataFrame({\n",
    "    'total_sales': [20000],\n",
    "    'sold_units': [1000],\n",
    "    'material_per_unit': [5],\n",
    "    'energy_per_unit': [0.5],\n",
    "    'store_rent': [2500],\n",
    "    'employees_payroll': [5000],\n",
    "})\n",
    "\n",
    "# The next step is to define the nature of each cost (variable or fixed)\n",
    "\n",
    "df['variable_costs'] = df['material_per_unit'] + df['energy_per_unit']\n",
    "df['total_var_costs'] = df['variable_costs'] * df['sold_units']\n",
    "df['fixed_costs'] = df['store_rent'] + df['employees_payroll']\n",
    "\n",
    "# Then we can calculate the contribution margin (revenue - variable costs)\n",
    "\n",
    "df['contribution_margin'] = df['total_sales'] - df['total_var_costs']\n",
    "\n",
    "# To calculate the net income we must deduct the fixed costs from contribution margin \n",
    "\n",
    "df['net_income'] = df['contribution_margin'] - df['fixed_costs']"
   ]
  },
  {
   "cell_type": "code",
   "execution_count": 2,
   "id": "94dd33cc-9737-41ad-aff7-936a3fc58329",
   "metadata": {},
   "outputs": [
    {
     "data": {
      "text/html": [
       "<style type=\"text/css\">\n",
       "#T_041e8 th {\n",
       "  text-align: left;\n",
       "}\n",
       "#T_041e8_row0_col0, #T_041e8_row0_col1, #T_041e8_row1_col0, #T_041e8_row1_col1, #T_041e8_row2_col0, #T_041e8_row2_col1, #T_041e8_row3_col0, #T_041e8_row3_col1, #T_041e8_row4_col0, #T_041e8_row4_col1 {\n",
       "  text-align: left;\n",
       "}\n",
       "</style>\n",
       "<table id=\"T_041e8\">\n",
       "  <thead>\n",
       "    <tr>\n",
       "      <th id=\"T_041e8_level0_col0\" class=\"col_heading level0 col0\" >Description</th>\n",
       "      <th id=\"T_041e8_level0_col1\" class=\"col_heading level0 col1\" >Amount (€)</th>\n",
       "    </tr>\n",
       "  </thead>\n",
       "  <tbody>\n",
       "    <tr>\n",
       "      <td id=\"T_041e8_row0_col0\" class=\"data row0 col0\" >Revenue</td>\n",
       "      <td id=\"T_041e8_row0_col1\" class=\"data row0 col1\" >€20,000.00</td>\n",
       "    </tr>\n",
       "    <tr>\n",
       "      <td id=\"T_041e8_row1_col0\" class=\"data row1 col0\" >Total Variable Costs (-)</td>\n",
       "      <td id=\"T_041e8_row1_col1\" class=\"data row1 col1\" >€5,500.00</td>\n",
       "    </tr>\n",
       "    <tr>\n",
       "      <td id=\"T_041e8_row2_col0\" class=\"data row2 col0\" >Contribution Margin (=)</td>\n",
       "      <td id=\"T_041e8_row2_col1\" class=\"data row2 col1\" >€14,500.00</td>\n",
       "    </tr>\n",
       "    <tr>\n",
       "      <td id=\"T_041e8_row3_col0\" class=\"data row3 col0\" >Fixed Costs (-)</td>\n",
       "      <td id=\"T_041e8_row3_col1\" class=\"data row3 col1\" >€7,500.00</td>\n",
       "    </tr>\n",
       "    <tr>\n",
       "      <td id=\"T_041e8_row4_col0\" class=\"data row4 col0\" >Net Income (=)</td>\n",
       "      <td id=\"T_041e8_row4_col1\" class=\"data row4 col1\" >€7,000.00</td>\n",
       "    </tr>\n",
       "  </tbody>\n",
       "</table>\n"
      ],
      "text/plain": [
       "<pandas.io.formats.style.Styler at 0x219e023e3c0>"
      ]
     },
     "metadata": {},
     "output_type": "display_data"
    }
   ],
   "source": [
    "summary_simple = pd.DataFrame({\n",
    "    \"Calculation\": [\n",
    "        \"Revenue\",\n",
    "        \"Total Variable Costs (-)\",\n",
    "        \"Contribution Margin (=)\",\n",
    "        \"Fixed Costs (-)\",\n",
    "        \"Net Income (=)\"\n",
    "    ],\n",
    "    \"Amount (€)\": [\n",
    "        df['total_sales'][0],\n",
    "        df['total_var_costs'][0],\n",
    "        df['contribution_margin'][0],\n",
    "        df['fixed_costs'][0],\n",
    "        df['net_income'][0]\n",
    "    ]\n",
    "})\n",
    "\n",
    "summary_simple.columns = ['Description', 'Amount (€)']\n",
    "\n",
    "# Apply formatting\n",
    "summary_simple = summary_simple.style \\\n",
    "    .hide(axis='index') \\\n",
    "    .set_properties(**{'text-align': 'left'}) \\\n",
    "    .set_table_styles([{'selector': 'th', 'props': [('text-align', 'left')]}]) \\\n",
    "    .format({'Amount (€)': '€{:,.2f}'})\n",
    "\n",
    "display(summary_simple)\n"
   ]
  },
  {
   "cell_type": "markdown",
   "id": "284b549b-e725-4658-95c5-61b5ccdde5dc",
   "metadata": {},
   "source": [
    "<h3 style=\"margin-bottom: 0; font-family: Georgia, serif;\">💧 Cost Behavior Model</h3>\n",
    "<p style=\"margin-top: 0; font-size: 90%; color: gray; font-family: Georgia, serif;\">\n",
    "  <em>Figure 1: Visual representation of how revenue flows through variable and fixed costs to generate net income.</em>\n",
    "    </p>\n",
    "\n",
    "<div style=\"display: table;\">\n",
    "  <div style=\"display: table-row;\">\n",
    "    <div style=\"display: table-cell; vertical-align: middle;\">\n",
    "      <img src=\"Cost_behavior_model.png\" alt=\"Cost Behavior Diagram\" width=\"300\">\n",
    "    </div>\n",
    "    <div style=\"display: table-cell; padding-left: 30px; vertical-align: middle; font-family: Georgia, serif; max-width: 350px;\">\n",
    "      <p>This visual illustrates how revenue flows through a business model.</p>\n",
    "      <p>Variable costs reduce the inflow. Fixed costs must be covered first, and any remaining overflow becomes net income.</p>\n",
    "      <p>This visual model was inspired by Prof. Marilson Dantas, at the University of Brasília.</p>\n",
    "    </div>\n",
    "  </div>\n",
    "</div>\n",
    "<sub>🧠 Illustration generated with the help of GPT-based image tools for educational use.</sub>"
   ]
  },
  {
   "cell_type": "code",
   "execution_count": null,
   "id": "e9b84ffa-498f-4e91-b39d-90d1a3159e48",
   "metadata": {},
   "outputs": [],
   "source": []
  }
 ],
 "metadata": {
  "kernelspec": {
   "display_name": "Python [conda env:base] *",
   "language": "python",
   "name": "conda-base-py"
  },
  "language_info": {
   "codemirror_mode": {
    "name": "ipython",
    "version": 3
   },
   "file_extension": ".py",
   "mimetype": "text/x-python",
   "name": "python",
   "nbconvert_exporter": "python",
   "pygments_lexer": "ipython3",
   "version": "3.12.7"
  }
 },
 "nbformat": 4,
 "nbformat_minor": 5
}
